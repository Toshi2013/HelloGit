{
  "nbformat": 4,
  "nbformat_minor": 0,
  "metadata": {
    "colab": {
      "name": "Welcome To Colaboratory",
      "version": "0.3.2",
      "provenance": [],
      "collapsed_sections": [],
      "toc_visible": true,
      "include_colab_link": true
    },
    "kernelspec": {
      "display_name": "Python 3",
      "name": "python3"
    }
  },
  "cells": [
    {
      "cell_type": "markdown",
      "metadata": {
        "id": "view-in-github",
        "colab_type": "text"
      },
      "source": [
        "<a href=\"https://colab.research.google.com/github/Toshi2013/HelloGit/blob/master/Welcome_To_Colaboratory01.ipynb\" target=\"_parent\"><img src=\"https://colab.research.google.com/assets/colab-badge.svg\" alt=\"Open In Colab\"/></a>"
      ]
    },
    {
      "cell_type": "markdown",
      "metadata": {
        "colab_type": "text",
        "id": "5fCEDCU_qrC0"
      },
      "source": [
        "<p><img alt=\"Colaboratory logo\" height=\"45px\" src=\"https://colab.research.google.com/img/colab_favicon.ico\" align=\"left\" hspace=\"10px\" vspace=\"0px\"></p>\n",
        "\n",
        "<h1>Welcome to Colaboratory!</h1>\n",
        "\n",
        "\n",
        "Colaboratory is a free Jupyter notebook environment that requires no setup and runs entirely in the cloud.\n",
        "\n",
        "With Colaboratory you can write and execute code, save and share your analyses, and access powerful computing resources, all for free from your browser."
      ]
    },
    {
      "cell_type": "code",
      "metadata": {
        "colab_type": "code",
        "id": "xitplqMNk_Hc",
        "outputId": "ed4f60d2-878d-4056-c438-352dac39a112",
        "colab": {
          "height": 420
        }
      },
      "source": [
        "#@title Introducing Colaboratory { display-mode: \"form\" }\n",
        "#@markdown This 3-minute video gives an overview of the key features of Colaboratory:\n",
        "from IPython.display import YouTubeVideo\n",
        "YouTubeVideo('inN8seMm7UI', width=600, height=400)"
      ],
      "execution_count": 0,
      "outputs": [
        {
          "output_type": "execute_result",
          "data": {
            "text/html": [
              "\n",
              "        <iframe\n",
              "            width=\"600\"\n",
              "            height=\"400\"\n",
              "            src=\"https://www.youtube.com/embed/inN8seMm7UI\"\n",
              "            frameborder=\"0\"\n",
              "            allowfullscreen\n",
              "        ></iframe>\n",
              "        "
            ],
            "text/plain": [
              "<IPython.lib.display.YouTubeVideo at 0x7f956e9dda50>"
            ]
          },
          "metadata": {
            "tags": []
          },
          "execution_count": 0
        }
      ]
    },
    {
      "cell_type": "markdown",
      "metadata": {
        "colab_type": "text",
        "id": "GJBs_flRovLc"
      },
      "source": [
        "## Getting Started\n",
        "\n",
        "The document you are reading is a  [Jupyter notebook](https://jupyter.org/), hosted in Colaboratory. It is not a static page, but an interactive environment that lets you write and execute code in Python and other languages.\n",
        "\n",
        "For example, here is a **code cell** with a short Python script that computes a value, stores it in a variable, and prints the result:"
      ]
    },
    {
      "cell_type": "code",
      "metadata": {
        "colab_type": "code",
        "id": "gJr_9dXGpJ05",
        "outputId": "5626194c-e802-4293-942d-2908885c3c1f",
        "colab": {
          "height": 35
        }
      },
      "source": [
        "seconds_in_a_day = 24 * 60 * 60\n",
        "seconds_in_a_day"
      ],
      "execution_count": 0,
      "outputs": [
        {
          "output_type": "execute_result",
          "data": {
            "text/plain": [
              "86400"
            ]
          },
          "metadata": {
            "tags": []
          },
          "execution_count": 0
        }
      ]
    },
    {
      "cell_type": "markdown",
      "metadata": {
        "colab_type": "text",
        "id": "2fhs6GZ4qFMx"
      },
      "source": [
        "To execute the code in the above cell, select it with a click and then either press the play button to the left of the code, or use the keyboard shortcut \"Command/Ctrl+Enter\".\n",
        "\n",
        "All cells modify the same global state, so variables that you define by executing a cell can be used in other cells:"
      ]
    },
    {
      "cell_type": "code",
      "metadata": {
        "colab_type": "code",
        "id": "-gE-Ez1qtyIA",
        "outputId": "8d2e4259-4682-4e19-b683-7b9087f28820",
        "colab": {
          "height": 35
        }
      },
      "source": [
        "seconds_in_a_week = 7 * seconds_in_a_day\n",
        "seconds_in_a_week"
      ],
      "execution_count": 0,
      "outputs": [
        {
          "output_type": "execute_result",
          "data": {
            "text/plain": [
              "604800"
            ]
          },
          "metadata": {
            "tags": []
          },
          "execution_count": 0
        }
      ]
    },
    {
      "cell_type": "markdown",
      "metadata": {
        "colab_type": "text",
        "id": "lSrWNr3MuFUS"
      },
      "source": [
        "For more information about working with Colaboratory notebooks, see [Overview of Colaboratory](/notebooks/basic_features_overview.ipynb).\n"
      ]
    },
    {
      "cell_type": "markdown",
      "metadata": {
        "colab_type": "text",
        "id": "-Rh3-Vt9Nev9"
      },
      "source": [
        "## More Resources\n",
        "\n",
        "Learn how to make the most of Python, Jupyter, Colaboratory, and related tools with these resources:\n",
        "\n",
        "### Working with Notebooks in Colaboratory\n",
        "- [Overview of Colaboratory](/notebooks/basic_features_overview.ipynb)\n",
        "- [Guide to Markdown](/notebooks/markdown_guide.ipynb)\n",
        "- [Importing libraries and installing dependencies](/notebooks/snippets/importing_libraries.ipynb)\n",
        "- [Saving and loading notebooks in GitHub](https://colab.research.google.com/github/googlecolab/colabtools/blob/master/notebooks/colab-github-demo.ipynb)\n",
        "- [Interactive forms](/notebooks/forms.ipynb)\n",
        "- [Interactive widgets](/notebooks/widgets.ipynb)\n",
        "\n",
        "### Working with Data\n",
        "- [Loading data: Drive, Sheets, and Google Cloud Storage](/notebooks/io.ipynb) \n",
        "- [Charts: visualizing data](/notebooks/charts.ipynb)\n",
        "- [Getting started with BigQuery](/notebooks/bigquery.ipynb)\n",
        "\n",
        "### Machine Learning Crash Course\n",
        "These are a few of the notebooks from Google's online Machine Learning course. See the [full course website](https://developers.google.com/machine-learning/crash-course/) for more.\n",
        "- [Intro to Pandas](/notebooks/mlcc/intro_to_pandas.ipynb)\n",
        "- [Tensorflow concepts](/notebooks/mlcc/tensorflow_programming_concepts.ipynb)\n",
        "- [First steps with TensorFlow](/notebooks/mlcc/first_steps_with_tensor_flow.ipynb)\n",
        "- [Intro to neural nets](/notebooks/mlcc/intro_to_neural_nets.ipynb)\n",
        "- [Intro to sparse data and embeddings](/notebooks/mlcc/intro_to_sparse_data_and_embeddings.ipynb)\n",
        "\n",
        "### Using Accelerated Hardware\n",
        "- [TensorFlow with GPUs](/notebooks/gpu.ipynb)\n",
        "- [TensorFlow with TPUs](/notebooks/tpu.ipynb)"
      ]
    },
    {
      "cell_type": "markdown",
      "metadata": {
        "colab_type": "text",
        "id": "P-H6Lw1vyNNd"
      },
      "source": [
        "## Machine Learning Examples: Seedbank\n",
        "\n",
        "To see end-to-end examples of the interactive machine learning analyses that Colaboratory makes possible, check out the [Seedbank](https://research.google.com/seedbank/) project.\n",
        "\n",
        "A few featured examples:\n",
        "\n",
        "- [Neural Style Transfer](https://research.google.com/seedbank/seed/neural_style_transfer_with_tfkeras): Use deep learning to transfer style between images.\n",
        "- [EZ NSynth](https://research.google.com/seedbank/seed/ez_nsynth): Synthesize audio with WaveNet auto-encoders.\n",
        "- [Fashion MNIST with Keras and TPUs](https://research.google.com/seedbank/seed/fashion_mnist_with_keras_and_tpus): Classify fashion-related images with deep learning.\n",
        "- [DeepDream](https://research.google.com/seedbank/seed/deepdream): Produce DeepDream images from your own photos.\n",
        "- [Convolutional VAE](https://research.google.com/seedbank/seed/convolutional_vae): Create a generative model of handwritten digits."
      ]
    },
    {
      "cell_type": "code",
      "metadata": {
        "id": "roXPbXoT0LJ5",
        "colab_type": "code",
        "colab": {
          "base_uri": "https://localhost:8080/",
          "height": 561
        },
        "outputId": "cca3316f-0f2e-4af2-ad47-19b35aad0a1c"
      },
      "source": [
        "import pandas as pd\n",
        "from pandas import DataFrame\n",
        "\n",
        "attri_data1 = {'ID':['100','101','102','104','105'],\n",
        "              'City':['tokyo','osaka','kyoto','Hokkaido','tokyo'],\n",
        "              'Birth_Year':[1990,1989,1992,1997,1982],\n",
        "              'Name':['Hiroshi','Akiko','Yuki','Satoru','Steve']}\n",
        "\n",
        "attri_data_frame1 = DataFrame(attri_data1)\n",
        "\n",
        "print(attri_data_frame1)\n",
        "\n",
        "attri_data_frame1_index = DataFrame(attri_data1,index=['a','b','c','d','e'])\n",
        "\n",
        "print(attri_data_frame1_index)\n",
        "\n",
        "print('      ')\n",
        "\n",
        "\n",
        "attri_data_frame1.Birth_Year\n",
        "\n",
        "print('      ')\n",
        "\n",
        "attri_data_frame1.T\n",
        "\n",
        "print(attri_data_frame1.drop(['Birth_Year'], axis =1))\n",
        "\n",
        "print(attri_data_frame1)\n",
        "\n",
        "attri_data_frame1.groupby('City')['Birth_Year'].mean()\n"
      ],
      "execution_count": 5,
      "outputs": [
        {
          "output_type": "stream",
          "text": [
            "    ID      City  Birth_Year     Name\n",
            "0  100     tokyo        1990  Hiroshi\n",
            "1  101     osaka        1989    Akiko\n",
            "2  102     kyoto        1992     Yuki\n",
            "3  104  Hokkaido        1997   Satoru\n",
            "4  105     tokyo        1982    Steve\n",
            "    ID      City  Birth_Year     Name\n",
            "a  100     tokyo        1990  Hiroshi\n",
            "b  101     osaka        1989    Akiko\n",
            "c  102     kyoto        1992     Yuki\n",
            "d  104  Hokkaido        1997   Satoru\n",
            "e  105     tokyo        1982    Steve\n",
            "      \n",
            "      \n",
            "    ID      City     Name\n",
            "0  100     tokyo  Hiroshi\n",
            "1  101     osaka    Akiko\n",
            "2  102     kyoto     Yuki\n",
            "3  104  Hokkaido   Satoru\n",
            "4  105     tokyo    Steve\n",
            "    ID      City  Birth_Year     Name\n",
            "0  100     tokyo        1990  Hiroshi\n",
            "1  101     osaka        1989    Akiko\n",
            "2  102     kyoto        1992     Yuki\n",
            "3  104  Hokkaido        1997   Satoru\n",
            "4  105     tokyo        1982    Steve\n"
          ],
          "name": "stdout"
        },
        {
          "output_type": "execute_result",
          "data": {
            "text/plain": [
              "City\n",
              "Hokkaido    1997\n",
              "kyoto       1992\n",
              "osaka       1989\n",
              "tokyo       1986\n",
              "Name: Birth_Year, dtype: int64"
            ]
          },
          "metadata": {
            "tags": []
          },
          "execution_count": 5
        }
      ]
    },
    {
      "cell_type": "code",
      "metadata": {
        "id": "0SWsOSzx5wgz",
        "colab_type": "code",
        "colab": {
          "base_uri": "https://localhost:8080/",
          "height": 408
        },
        "outputId": "e4c47c03-44bc-4a2b-9faa-87f560767a93"
      },
      "source": [
        "import pandas as pd\n",
        "import numpy as np\n",
        "from pandas import DataFrame\n",
        "\n",
        "attri_data2 = {'ID':['100','101','102','103','104'],\n",
        "              'City':['tokyo','osaka','kyoto','Hokkaido','tokyo'],\n",
        "              'Birth_Year':[1990,1989,1992,1997,1982],\n",
        "              'Name':['Hiroshi','Akiko','Yuki','Satoru','Steve']}\n",
        "attri_data_frame2 = DataFrame(attri_data2)\n",
        "attri_data_frame_index2 = DataFrame(attri_data2, index =['e','b','a','d','c'])\n",
        "attri_data_frame_index2\n",
        "\n",
        "print(attri_data_frame_index2.sort_index())\n",
        "\n",
        "attri_data_frame_index2.Birth_Year.sort_values()\n",
        "\n",
        "print(attri_data_frame_index2)\n",
        "\n",
        "attri_data_frame_index2.isin(['tokyo'])\n",
        "\n",
        "attri_data_frame_index2['Name'] =np.nan\n",
        "\n",
        "print(attri_data_frame_index2.isnull())\n",
        "\n",
        "attri_data_frame_index2.isnull().sum()"
      ],
      "execution_count": 14,
      "outputs": [
        {
          "output_type": "stream",
          "text": [
            "    ID      City  Birth_Year     Name\n",
            "a  102     kyoto        1992     Yuki\n",
            "b  101     osaka        1989    Akiko\n",
            "c  104     tokyo        1982    Steve\n",
            "d  103  Hokkaido        1997   Satoru\n",
            "e  100     tokyo        1990  Hiroshi\n",
            "    ID      City  Birth_Year     Name\n",
            "e  100     tokyo        1990  Hiroshi\n",
            "b  101     osaka        1989    Akiko\n",
            "a  102     kyoto        1992     Yuki\n",
            "d  103  Hokkaido        1997   Satoru\n",
            "c  104     tokyo        1982    Steve\n",
            "      ID   City  Birth_Year  Name\n",
            "e  False  False       False  True\n",
            "b  False  False       False  True\n",
            "a  False  False       False  True\n",
            "d  False  False       False  True\n",
            "c  False  False       False  True\n"
          ],
          "name": "stdout"
        },
        {
          "output_type": "execute_result",
          "data": {
            "text/plain": [
              "ID            0\n",
              "City          0\n",
              "Birth_Year    0\n",
              "Name          5\n",
              "dtype: int64"
            ]
          },
          "metadata": {
            "tags": []
          },
          "execution_count": 14
        }
      ]
    },
    {
      "cell_type": "code",
      "metadata": {
        "id": "U_LD25JW8wIa",
        "colab_type": "code",
        "colab": {
          "base_uri": "https://localhost:8080/",
          "height": 424
        },
        "outputId": "c8bdc21f-1b68-4cce-8f3a-3aeac87d4cea"
      },
      "source": [
        "import matplotlib as mpl\n",
        "import seaborn as sns\n",
        "\n",
        "import matplotlib.pyplot as plt\n",
        "\n",
        "%matplotlib inline\n",
        "\n",
        "# random.seed(0)\n",
        "\n",
        "x = np.random.randn(30)\n",
        "\n",
        "y = np.sin(x) + np.random.randn(30)\n",
        "\n",
        "plt.figure(figsize=(20,6))\n",
        "\n",
        "plt.plot(x, y, 'o')\n",
        "\n",
        "plt.title('Title Name')\n",
        "\n",
        "plt.xlabel('X')\n",
        "\n",
        "plt.ylabel('Y')\n",
        "\n",
        "plt.grid(True)\n"
      ],
      "execution_count": 19,
      "outputs": [
        {
          "output_type": "display_data",
          "data": {
            "image/png": "[encoded data removed]",
            "text/plain": [
              "<Figure size 1440x432 with 1 Axes>"
            ]
          },
          "metadata": {
            "tags": []
          }
        }
      ]
    }
  ]
}